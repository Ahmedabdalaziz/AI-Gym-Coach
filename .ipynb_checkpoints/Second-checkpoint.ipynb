{
 "cells": [
  {
   "cell_type": "code",
   "id": "initial_id",
   "metadata": {
    "collapsed": true,
    "ExecuteTime": {
     "end_time": "2024-05-01T10:31:06.829755Z",
     "start_time": "2024-05-01T10:31:04.077253Z"
    }
   },
   "source": "!pip install mediapipe",
   "outputs": [
    {
     "name": "stdout",
     "output_type": "stream",
     "text": [
      "Requirement already satisfied: mediapipe in c:\\users\\lap store\\appdata\\local\\programs\\python\\python39\\lib\\site-packages (0.8.11)\n",
      "Requirement already satisfied: absl-py in c:\\users\\lap store\\appdata\\local\\programs\\python\\python39\\lib\\site-packages (from mediapipe) (2.1.0)\n",
      "Requirement already satisfied: attrs>=19.1.0 in c:\\users\\lap store\\appdata\\local\\programs\\python\\python39\\lib\\site-packages (from mediapipe) (23.2.0)\n",
      "Requirement already satisfied: matplotlib in c:\\users\\lap store\\appdata\\local\\programs\\python\\python39\\lib\\site-packages (from mediapipe) (3.8.4)\n",
      "Requirement already satisfied: numpy in c:\\users\\lap store\\appdata\\local\\programs\\python\\python39\\lib\\site-packages (from mediapipe) (1.26.4)\n",
      "Requirement already satisfied: opencv-contrib-python in c:\\users\\lap store\\appdata\\local\\programs\\python\\python39\\lib\\site-packages (from mediapipe) (4.9.0.80)\n",
      "Requirement already satisfied: protobuf<4,>=3.11 in c:\\users\\lap store\\appdata\\local\\programs\\python\\python39\\lib\\site-packages (from mediapipe) (3.20.3)\n",
      "Requirement already satisfied: contourpy>=1.0.1 in c:\\users\\lap store\\appdata\\local\\programs\\python\\python39\\lib\\site-packages (from matplotlib->mediapipe) (1.2.1)\n",
      "Requirement already satisfied: cycler>=0.10 in c:\\users\\lap store\\appdata\\local\\programs\\python\\python39\\lib\\site-packages (from matplotlib->mediapipe) (0.12.1)\n",
      "Requirement already satisfied: fonttools>=4.22.0 in c:\\users\\lap store\\appdata\\local\\programs\\python\\python39\\lib\\site-packages (from matplotlib->mediapipe) (4.51.0)\n",
      "Requirement already satisfied: kiwisolver>=1.3.1 in c:\\users\\lap store\\appdata\\local\\programs\\python\\python39\\lib\\site-packages (from matplotlib->mediapipe) (1.4.5)\n",
      "Requirement already satisfied: packaging>=20.0 in c:\\users\\lap store\\appdata\\local\\programs\\python\\python39\\lib\\site-packages (from matplotlib->mediapipe) (24.0)\n",
      "Requirement already satisfied: pillow>=8 in c:\\users\\lap store\\appdata\\local\\programs\\python\\python39\\lib\\site-packages (from matplotlib->mediapipe) (10.3.0)\n",
      "Requirement already satisfied: pyparsing>=2.3.1 in c:\\users\\lap store\\appdata\\local\\programs\\python\\python39\\lib\\site-packages (from matplotlib->mediapipe) (3.1.2)\n",
      "Requirement already satisfied: python-dateutil>=2.7 in c:\\users\\lap store\\appdata\\local\\programs\\python\\python39\\lib\\site-packages (from matplotlib->mediapipe) (2.9.0.post0)\n",
      "Requirement already satisfied: importlib-resources>=3.2.0 in c:\\users\\lap store\\appdata\\local\\programs\\python\\python39\\lib\\site-packages (from matplotlib->mediapipe) (6.4.0)\n",
      "Requirement already satisfied: zipp>=3.1.0 in c:\\users\\lap store\\appdata\\local\\programs\\python\\python39\\lib\\site-packages (from importlib-resources>=3.2.0->matplotlib->mediapipe) (3.18.1)\n",
      "Requirement already satisfied: six>=1.5 in c:\\users\\lap store\\appdata\\local\\programs\\python\\python39\\lib\\site-packages (from python-dateutil>=2.7->matplotlib->mediapipe) (1.16.0)\n"
     ]
    }
   ],
   "execution_count": 1
  },
  {
   "metadata": {
    "ExecuteTime": {
     "end_time": "2024-05-01T10:31:09.191094Z",
     "start_time": "2024-05-01T10:31:06.832748Z"
    }
   },
   "cell_type": "code",
   "source": "!pip install opencv-python",
   "id": "b740827ddce61196",
   "outputs": [
    {
     "name": "stdout",
     "output_type": "stream",
     "text": [
      "Requirement already satisfied: opencv-python in c:\\users\\lap store\\appdata\\roaming\\python\\python39\\site-packages (4.9.0.80)\n",
      "Requirement already satisfied: numpy>=1.17.0 in c:\\users\\lap store\\appdata\\local\\programs\\python\\python39\\lib\\site-packages (from opencv-python) (1.26.4)\n"
     ]
    }
   ],
   "execution_count": 2
  },
  {
   "metadata": {
    "ExecuteTime": {
     "end_time": "2024-05-01T10:31:12.300205Z",
     "start_time": "2024-05-01T10:31:09.193042Z"
    }
   },
   "cell_type": "code",
   "source": "!pip install --upgrade pip",
   "id": "c4ab39e23179b1c9",
   "outputs": [
    {
     "name": "stdout",
     "output_type": "stream",
     "text": [
      "Requirement already satisfied: pip in c:\\users\\lap store\\appdata\\local\\programs\\python\\python39\\lib\\site-packages (24.0)\n"
     ]
    }
   ],
   "execution_count": 3
  },
  {
   "metadata": {
    "ExecuteTime": {
     "end_time": "2024-05-01T10:31:13.145582Z",
     "start_time": "2024-05-01T10:31:12.304161Z"
    }
   },
   "cell_type": "code",
   "source": [
    "import cv2\n",
    "import mediapipe as mp\n",
    "import numpy as np\n",
    "\n",
    "mp_drawing = mp.solutions.drawing_utils\n",
    "mp_hands = mp.solutions.hands"
   ],
   "id": "b5256ceb69016b9",
   "outputs": [],
   "execution_count": 4
  },
  {
   "metadata": {
    "ExecuteTime": {
     "end_time": "2024-05-01T10:31:13.161480Z",
     "start_time": "2024-05-01T10:31:13.147551Z"
    }
   },
   "cell_type": "code",
   "source": [
    "def calculate_angle(a, b, c):\n",
    "    a = np.array(a)\n",
    "    b = np.array(b)\n",
    "    c = np.array(c)\n",
    "    radians = np.arctan2(c[1] - b[1], c[0] - b[0]) - np.arctan2(a[1] - b[1], a[0] - b[0])\n",
    "    angle = np.abs(radians * 180.0 / np.pi)\n",
    "\n",
    "    if angle > 180.0:\n",
    "        angle = 360 - angle\n",
    "\n",
    "    return angle\n"
   ],
   "id": "54ec76da12230278",
   "outputs": [],
   "execution_count": 5
  },
  {
   "metadata": {
    "ExecuteTime": {
     "end_time": "2024-05-01T10:31:13.177542Z",
     "start_time": "2024-05-01T10:31:13.165470Z"
    }
   },
   "cell_type": "code",
   "source": [
    "def calculate_accuracy(counter_left, counter_right):\n",
    "    total_predictions = counter_left + counter_right\n",
    "    if total_predictions == 0:\n",
    "        return 0\n",
    "    accuracy = ((counter_left + counter_right) / (2 * total_predictions)) * 100\n",
    "    return accuracy\n"
   ],
   "id": "313af368217bf0ba",
   "outputs": [],
   "execution_count": 6
  },
  {
   "metadata": {
    "ExecuteTime": {
     "end_time": "2024-05-01T10:31:32.224176Z",
     "start_time": "2024-05-01T10:31:32.210799Z"
    }
   },
   "cell_type": "code",
   "source": [
    "def detect_gesture(finger_points):\n",
    "    thumb, index, middle, ring, pinky = finger_points\n",
    "\n",
    "    if thumb[1] < index[1]:\n",
    "        return \"Thumbs Up\"\n",
    "\n",
    "    if index[1] < middle[1] and index[1] < ring[1] and index[1] < pinky[1]:\n",
    "        return \"Index Finger Pointing\"\n",
    "\n",
    "    if middle[1] < index[1] and middle[1] < ring[1] and middle[1] < pinky[1]:\n",
    "        return \"Middle Finger Pointing\"\n",
    "\n",
    "    if ring[1] < index[1] and ring[1] < middle[1] and ring[1] < pinky[1]:\n",
    "        return \"Ring Finger Pointing\"\n",
    "\n",
    "    if pinky[1] < index[1] and pinky[1] < middle[1] and pinky[1] < ring[1]:\n",
    "        return \"Pinky Finger Pointing\"\n",
    "\n",
    "    return \"No Recognizable Gesture\"\n"
   ],
   "id": "a6f8850bedb9cc3e",
   "outputs": [],
   "execution_count": 7
  },
  {
   "metadata": {
    "jupyter": {
     "is_executing": true
    },
    "ExecuteTime": {
     "start_time": "2024-05-01T10:31:37.957678Z"
    }
   },
   "cell_type": "code",
   "source": [
    "cap = cv2.VideoCapture(0)\n",
    "\n",
    "hands = mp_hands.Hands(\n",
    "    min_detection_confidence=0.5,\n",
    "    min_tracking_confidence=0.5\n",
    ")\n",
    "\n",
    "counter_left = 0\n",
    "counter_right = 0\n",
    "stage_left = None\n",
    "stage_right = None\n",
    "\n",
    "while cap.isOpened():\n",
    "    ret, frame = cap.read()\n",
    "\n",
    "    image = cv2.cvtColor(frame, cv2.COLOR_BGR2RGB)\n",
    "    result = hands.process(image)\n",
    "    image = cv2.cvtColor(image, cv2.COLOR_RGB2BGR)\n",
    "\n",
    "    try:\n",
    "        if result.multi_hand_landmarks:  \n",
    "            landmarks = result.multi_hand_landmarks[0].landmark\n",
    "\n",
    "            thumb = [landmarks[mp_hands.HandLandmark.THUMB_TIP.value].x,\n",
    "                     landmarks[mp_hands.HandLandmark.THUMB_TIP.value].y]\n",
    "            index = [landmarks[mp_hands.HandLandmark.INDEX_FINGER_TIP.value].x,\n",
    "                     landmarks[mp_hands.HandLandmark.INDEX_FINGER_TIP.value].y]\n",
    "            middle = [landmarks[mp_hands.HandLandmark.MIDDLE_FINGER_TIP.value].x,\n",
    "                      landmarks[mp_hands.HandLandmark.MIDDLE_FINGER_TIP.value].y]\n",
    "            ring = [landmarks[mp_hands.HandLandmark.RING_FINGER_TIP.value].x,\n",
    "                    landmarks[mp_hands.HandLandmark.RING_FINGER_TIP.value].y]\n",
    "            pinky = [landmarks[mp_hands.HandLandmark.PINKY_TIP.value].x,\n",
    "                     landmarks[mp_hands.HandLandmark.PINKY_TIP.value].y]\n",
    "\n",
    "            finger_points = [thumb, index, middle, ring, pinky]\n",
    "            gesture = detect_gesture(finger_points)\n",
    "            print(f\"Detected Gesture: {gesture}\")\n",
    "\n",
    "            mp_drawing.draw_landmarks(\n",
    "                image,\n",
    "                result.multi_hand_landmarks[0],\n",
    "                mp_hands.HAND_CONNECTIONS,\n",
    "                mp_drawing.DrawingSpec(color=(245, 117, 66), thickness=2, circle_radius=2),\n",
    "                mp_drawing.DrawingSpec(color=(245, 66, 230), thickness=2)\n",
    "            )\n",
    "\n",
    "            cv2.putText(image, f\"Detected Gesture: {gesture}\", (10, 30), cv2.FONT_HERSHEY_SIMPLEX, 1, (255, 0, 0), 2)\n",
    "\n",
    "    except:\n",
    "        pass\n",
    "        cv2.imshow('Hand Gestures', image)\n",
    "\n",
    "    if cv2.waitKey(10) == ord('k'):\n",
    "        break\n",
    "\n",
    "cap.release()\n",
    "cv2.destroyAllWindows()\n"
   ],
   "id": "fe40bf8abaf01914",
   "outputs": [],
   "execution_count": null
  },
  {
   "metadata": {
    "jupyter": {
     "is_executing": true
    }
   },
   "cell_type": "code",
   "source": [
    "# calculate accuracy\n",
    "accuracy = calculate_accuracy(counter_left, counter_right)\n",
    "print(f\"Accuracy: {accuracy:.2f}%\")\n"
   ],
   "id": "eb567e5be437c8e3",
   "outputs": [],
   "execution_count": null
  },
  {
   "metadata": {},
   "cell_type": "code",
   "outputs": [],
   "execution_count": null,
   "source": "",
   "id": "f6cea67542909085"
  }
 ],
 "metadata": {
  "kernelspec": {
   "display_name": "Python 3",
   "language": "python",
   "name": "python3"
  },
  "language_info": {
   "codemirror_mode": {
    "name": "ipython",
    "version": 2
   },
   "file_extension": ".py",
   "mimetype": "text/x-python",
   "name": "python",
   "nbconvert_exporter": "python",
   "pygments_lexer": "ipython2",
   "version": "2.7.6"
  }
 },
 "nbformat": 4,
 "nbformat_minor": 5
}
